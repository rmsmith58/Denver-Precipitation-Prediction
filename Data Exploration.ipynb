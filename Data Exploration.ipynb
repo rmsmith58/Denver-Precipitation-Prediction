{
 "cells": [
  {
   "cell_type": "code",
   "execution_count": 2,
   "metadata": {},
   "outputs": [],
   "source": [
    "from matplotlib import pyplot as plt\n",
    "import pandas as pd\n",
    "import numpy as np"
   ]
  },
  {
   "cell_type": "code",
   "execution_count": 3,
   "metadata": {},
   "outputs": [],
   "source": [
    "#read in initial datasets\n",
    "data = pd.read_csv(\"2010-2014.csv\", low_memory=False)\n",
    "data2 = pd.read_csv(\"2014-2021.csv\", low_memory=False)"
   ]
  },
  {
   "cell_type": "code",
   "execution_count": 4,
   "metadata": {
    "scrolled": true
   },
   "outputs": [
    {
     "name": "stdout",
     "output_type": "stream",
     "text": [
      "Overall dataset size:  141484\n",
      "Dataset size w/o null PRCP values:  107329\n",
      "Percentage of null values:  24.140538859517687\n"
     ]
    }
   ],
   "source": [
    "#examine null prcp stats\n",
    "print('Overall dataset size: ', data['PRCP'].size + data2['PRCP'].size)\n",
    "print('Dataset size w/o null PRCP values: ', data.loc[data['PRCP'].notnull()]['PRCP'].size + data2.loc[data2['PRCP'].notnull()]['PRCP'].size)\n",
    "print('Percentage of null values: ', (data.loc[data['PRCP'].isnull()]['PRCP'].size + data2.loc[data2['PRCP'].isnull()]['PRCP'].size) / (data['PRCP'].size + data2['PRCP'].size) * 100)"
   ]
  },
  {
   "cell_type": "code",
   "execution_count": 5,
   "metadata": {},
   "outputs": [
    {
     "name": "stdout",
     "output_type": "stream",
     "text": [
      "New dataset size:  107329\n"
     ]
    }
   ],
   "source": [
    "#create new dataset w/o null prcp rows\n",
    "dataFiltered = data[data['PRCP'].notnull()]\n",
    "data2Filtered = data2[data2['PRCP'].notnull()]\n",
    "\n",
    "#append to create a single dataset\n",
    "data = dataFiltered.append(data2Filtered)\n",
    "\n",
    "#check to make sure this worked correctly\n",
    "print('New dataset size: ', data['PRCP'].size)"
   ]
  },
  {
   "cell_type": "code",
   "execution_count": 7,
   "metadata": {},
   "outputs": [
    {
     "name": "stdout",
     "output_type": "stream",
     "text": [
      "New dataset size:  107322\n"
     ]
    }
   ],
   "source": [
    "#create new dataset w/o null prcp rows\n",
    "dataFiltered = data[data['ELEVATION'].notnull()]\n",
    "\n",
    "#append to create a single dataset\n",
    "data = dataFiltered\n",
    "\n",
    "#check to make sure this worked correctly\n",
    "print('New dataset size: ', data['PRCP'].size)"
   ]
  },
  {
   "cell_type": "code",
   "execution_count": 8,
   "metadata": {},
   "outputs": [
    {
     "name": "stderr",
     "output_type": "stream",
     "text": [
      "<ipython-input-8-ed76153397e6>:2: SettingWithCopyWarning: \n",
      "A value is trying to be set on a copy of a slice from a DataFrame.\n",
      "Try using .loc[row_indexer,col_indexer] = value instead\n",
      "\n",
      "See the caveats in the documentation: https://pandas.pydata.org/pandas-docs/stable/user_guide/indexing.html#returning-a-view-versus-a-copy\n",
      "  data['DATE'] = pd.to_datetime(data['DATE'])\n",
      "<ipython-input-8-ed76153397e6>:3: SettingWithCopyWarning: \n",
      "A value is trying to be set on a copy of a slice from a DataFrame.\n",
      "Try using .loc[row_indexer,col_indexer] = value instead\n",
      "\n",
      "See the caveats in the documentation: https://pandas.pydata.org/pandas-docs/stable/user_guide/indexing.html#returning-a-view-versus-a-copy\n",
      "  data['DAY'] = data['DATE'].dt.day\n",
      "<ipython-input-8-ed76153397e6>:4: SettingWithCopyWarning: \n",
      "A value is trying to be set on a copy of a slice from a DataFrame.\n",
      "Try using .loc[row_indexer,col_indexer] = value instead\n",
      "\n",
      "See the caveats in the documentation: https://pandas.pydata.org/pandas-docs/stable/user_guide/indexing.html#returning-a-view-versus-a-copy\n",
      "  data['MONTH'] = data['DATE'].dt.month\n",
      "<ipython-input-8-ed76153397e6>:5: SettingWithCopyWarning: \n",
      "A value is trying to be set on a copy of a slice from a DataFrame.\n",
      "Try using .loc[row_indexer,col_indexer] = value instead\n",
      "\n",
      "See the caveats in the documentation: https://pandas.pydata.org/pandas-docs/stable/user_guide/indexing.html#returning-a-view-versus-a-copy\n",
      "  data['YEAR'] = data['DATE'].dt.year\n"
     ]
    },
    {
     "data": {
      "text/html": [
       "<div>\n",
       "<style scoped>\n",
       "    .dataframe tbody tr th:only-of-type {\n",
       "        vertical-align: middle;\n",
       "    }\n",
       "\n",
       "    .dataframe tbody tr th {\n",
       "        vertical-align: top;\n",
       "    }\n",
       "\n",
       "    .dataframe thead th {\n",
       "        text-align: right;\n",
       "    }\n",
       "</style>\n",
       "<table border=\"1\" class=\"dataframe\">\n",
       "  <thead>\n",
       "    <tr style=\"text-align: right;\">\n",
       "      <th></th>\n",
       "      <th>DATE</th>\n",
       "      <th>DAY</th>\n",
       "      <th>MONTH</th>\n",
       "      <th>YEAR</th>\n",
       "    </tr>\n",
       "  </thead>\n",
       "  <tbody>\n",
       "    <tr>\n",
       "      <th>0</th>\n",
       "      <td>2013-01-02</td>\n",
       "      <td>2</td>\n",
       "      <td>1</td>\n",
       "      <td>2013</td>\n",
       "    </tr>\n",
       "    <tr>\n",
       "      <th>1</th>\n",
       "      <td>2013-01-03</td>\n",
       "      <td>3</td>\n",
       "      <td>1</td>\n",
       "      <td>2013</td>\n",
       "    </tr>\n",
       "    <tr>\n",
       "      <th>2</th>\n",
       "      <td>2013-01-04</td>\n",
       "      <td>4</td>\n",
       "      <td>1</td>\n",
       "      <td>2013</td>\n",
       "    </tr>\n",
       "    <tr>\n",
       "      <th>3</th>\n",
       "      <td>2013-01-05</td>\n",
       "      <td>5</td>\n",
       "      <td>1</td>\n",
       "      <td>2013</td>\n",
       "    </tr>\n",
       "    <tr>\n",
       "      <th>4</th>\n",
       "      <td>2013-01-06</td>\n",
       "      <td>6</td>\n",
       "      <td>1</td>\n",
       "      <td>2013</td>\n",
       "    </tr>\n",
       "    <tr>\n",
       "      <th>...</th>\n",
       "      <td>...</td>\n",
       "      <td>...</td>\n",
       "      <td>...</td>\n",
       "      <td>...</td>\n",
       "    </tr>\n",
       "    <tr>\n",
       "      <th>82521</th>\n",
       "      <td>2021-01-01</td>\n",
       "      <td>1</td>\n",
       "      <td>1</td>\n",
       "      <td>2021</td>\n",
       "    </tr>\n",
       "    <tr>\n",
       "      <th>82522</th>\n",
       "      <td>2021-01-01</td>\n",
       "      <td>1</td>\n",
       "      <td>1</td>\n",
       "      <td>2021</td>\n",
       "    </tr>\n",
       "    <tr>\n",
       "      <th>82523</th>\n",
       "      <td>2021-01-01</td>\n",
       "      <td>1</td>\n",
       "      <td>1</td>\n",
       "      <td>2021</td>\n",
       "    </tr>\n",
       "    <tr>\n",
       "      <th>82524</th>\n",
       "      <td>2021-01-01</td>\n",
       "      <td>1</td>\n",
       "      <td>1</td>\n",
       "      <td>2021</td>\n",
       "    </tr>\n",
       "    <tr>\n",
       "      <th>82525</th>\n",
       "      <td>2021-01-01</td>\n",
       "      <td>1</td>\n",
       "      <td>1</td>\n",
       "      <td>2021</td>\n",
       "    </tr>\n",
       "  </tbody>\n",
       "</table>\n",
       "<p>107322 rows × 4 columns</p>\n",
       "</div>"
      ],
      "text/plain": [
       "            DATE  DAY  MONTH  YEAR\n",
       "0     2013-01-02    2      1  2013\n",
       "1     2013-01-03    3      1  2013\n",
       "2     2013-01-04    4      1  2013\n",
       "3     2013-01-05    5      1  2013\n",
       "4     2013-01-06    6      1  2013\n",
       "...          ...  ...    ...   ...\n",
       "82521 2021-01-01    1      1  2021\n",
       "82522 2021-01-01    1      1  2021\n",
       "82523 2021-01-01    1      1  2021\n",
       "82524 2021-01-01    1      1  2021\n",
       "82525 2021-01-01    1      1  2021\n",
       "\n",
       "[107322 rows x 4 columns]"
      ]
     },
     "execution_count": 8,
     "metadata": {},
     "output_type": "execute_result"
    }
   ],
   "source": [
    "#split date data into a day, month, year column for each row\n",
    "data['DATE'] = pd.to_datetime(data['DATE'])\n",
    "data['DAY'] = data['DATE'].dt.day\n",
    "data['MONTH'] = data['DATE'].dt.month\n",
    "data['YEAR'] = data['DATE'].dt.year\n",
    "\n",
    "#check to verify\n",
    "data[['DATE', 'DAY', 'MONTH', 'YEAR']]"
   ]
  },
  {
   "cell_type": "code",
   "execution_count": 12,
   "metadata": {
    "scrolled": false
   },
   "outputs": [
    {
     "name": "stdout",
     "output_type": "stream",
     "text": [
      "Enter 'y' to load a csv instead of generating a new dataframe:n\n",
      "Generating dataframe, this may take several minutes...\n"
     ]
    },
    {
     "name": "stderr",
     "output_type": "stream",
     "text": [
      "<ipython-input-12-dc771f9be365>:43: SettingWithCopyWarning: \n",
      "A value is trying to be set on a copy of a slice from a DataFrame.\n",
      "Try using .loc[row_indexer,col_indexer] = value instead\n",
      "\n",
      "See the caveats in the documentation: https://pandas.pydata.org/pandas-docs/stable/user_guide/indexing.html#returning-a-view-versus-a-copy\n",
      "  dataUnique.loc[dataUnique['ID'] == i]['PRCP'] += p\n"
     ]
    },
    {
     "name": "stdout",
     "output_type": "stream",
     "text": [
      "Time to run:  54.60746955871582\n",
      "New dataset size:  43136\n",
      "Enter 'y' to save the generated dataframe:y\n",
      "Enter filename to save as:filteredData\n",
      "Saved file to local directory\n"
     ]
    }
   ],
   "source": [
    "#option to load dataframe if this cell was previously run\n",
    "if input(\"Enter 'y' to load a csv instead of generating a new dataframe:\") == 'y':\n",
    "    name = input('Enter filename to load (must be in local dir):')\n",
    "    try: \n",
    "        dataUnique = pd.read_csv(name, low_memory=False)\n",
    "        print('Loaded, dataframe size: ', dataUnique['PRCP'].size)\n",
    "        #convert date column from string to datetime object\n",
    "        dataUnique['DATE'] =  pd.to_datetime(dataUnique['DATE'])\n",
    "    except:\n",
    "        print('Error loading dataframe, rerun this cell')\n",
    "\n",
    "else:\n",
    "    print('Generating dataframe, this may take several minutes...')\n",
    "    \n",
    "    #timing to check efficiency\n",
    "    import time\n",
    "    startTime = time.time()\n",
    "\n",
    "    #build new dataframe\n",
    "    uniqueID = set()\n",
    "    listRows = []\n",
    "    update = {}\n",
    "    rowsToUpdate = {}\n",
    "\n",
    "    #loop thru each row in the dataset and check for unique combinations of 'DATE' and 'STATION'\n",
    "    #if the combination has not been found, add new row with all data, else add the 'PRCP' val and id to a dict to update later\n",
    "    #Based on ShikharDua's answer here: https://stackoverflow.com/questions/10715965/create-pandas-dataframe-by-appending-one-row-at-a-time/17496530#17496530\n",
    "    for r in data.iterrows():\n",
    "        id = r[1]['STATION'] + str(r[1]['DATE'])\n",
    "        if id not in uniqueID:\n",
    "            newRow = {'ID': id, 'DATE': r[1]['DATE'], 'YEAR': r[1]['YEAR'], 'MONTH': r[1]['MONTH'], 'DAY': r[1]['DAY'], 'LATITUDE': r[1]['LATITUDE'], 'LONGITUDE': r[1]['LONGITUDE'], 'ELEVATION': r[1]['ELEVATION'], 'PRCP': r[1]['PRCP']}\n",
    "            listRows.append(newRow)\n",
    "            uniqueID.add(id)\n",
    "        else:\n",
    "            update = {id: r[1]['PRCP']}\n",
    "            rowsToUpdate.update(update)\n",
    "\n",
    "    #create new dataset with listRows\n",
    "    dataUnique = pd.DataFrame(listRows)\n",
    "\n",
    "    #second loop thru rowsToUpdate to update dataframe\n",
    "    for i, p in rowsToUpdate.items():\n",
    "        dataUnique.loc[dataUnique['ID'] == i]['PRCP'] += p\n",
    "\n",
    "    #print total time to run this cell\n",
    "    print('Time to run: ', time.time() - startTime)\n",
    "\n",
    "    print('New dataset size: ', dataUnique['PRCP'].size)\n",
    "\n",
    "    #option to save dataframe to skip rerunning this cell\n",
    "    if input(\"Enter 'y' to save the generated dataframe:\") == 'y':\n",
    "        name = input('Enter filename to save as:')\n",
    "        dataUnique.to_csv(name+'.csv', index=False, header=True)\n",
    "        print('Saved file to local directory')"
   ]
  },
  {
   "cell_type": "code",
   "execution_count": 1,
   "metadata": {},
   "outputs": [
    {
     "ename": "NameError",
     "evalue": "name 'plt' is not defined",
     "output_type": "error",
     "traceback": [
      "\u001b[1;31m---------------------------------------------------------------------------\u001b[0m",
      "\u001b[1;31mNameError\u001b[0m                                 Traceback (most recent call last)",
      "\u001b[1;32m<ipython-input-1-2cfc6621ba7c>\u001b[0m in \u001b[0;36m<module>\u001b[1;34m\u001b[0m\n\u001b[0;32m      1\u001b[0m \u001b[1;31m#graph timeseries vs prcp\u001b[0m\u001b[1;33m\u001b[0m\u001b[1;33m\u001b[0m\u001b[1;33m\u001b[0m\u001b[0m\n\u001b[1;32m----> 2\u001b[1;33m \u001b[0mplt\u001b[0m\u001b[1;33m.\u001b[0m\u001b[0mscatter\u001b[0m\u001b[1;33m(\u001b[0m\u001b[0mdataUnique\u001b[0m\u001b[1;33m[\u001b[0m\u001b[1;34m'DATE'\u001b[0m\u001b[1;33m]\u001b[0m\u001b[1;33m,\u001b[0m \u001b[0mdataUnique\u001b[0m\u001b[1;33m[\u001b[0m\u001b[1;34m'PRCP'\u001b[0m\u001b[1;33m]\u001b[0m\u001b[1;33m,\u001b[0m \u001b[0ms\u001b[0m\u001b[1;33m=\u001b[0m\u001b[1;36m10\u001b[0m\u001b[1;33m)\u001b[0m\u001b[1;33m\u001b[0m\u001b[1;33m\u001b[0m\u001b[0m\n\u001b[0m\u001b[0;32m      3\u001b[0m \u001b[0mplt\u001b[0m\u001b[1;33m.\u001b[0m\u001b[0mtitle\u001b[0m\u001b[1;33m(\u001b[0m\u001b[1;34m'Daily precipitation totals 2010-2021'\u001b[0m\u001b[1;33m)\u001b[0m\u001b[1;33m\u001b[0m\u001b[1;33m\u001b[0m\u001b[0m\n\u001b[0;32m      4\u001b[0m \u001b[0mplt\u001b[0m\u001b[1;33m.\u001b[0m\u001b[0mylabel\u001b[0m\u001b[1;33m(\u001b[0m\u001b[1;34m'Precipitation (in)'\u001b[0m\u001b[1;33m)\u001b[0m\u001b[1;33m\u001b[0m\u001b[1;33m\u001b[0m\u001b[0m\n\u001b[0;32m      5\u001b[0m \u001b[0mplt\u001b[0m\u001b[1;33m.\u001b[0m\u001b[0mshow\u001b[0m\u001b[1;33m(\u001b[0m\u001b[1;33m)\u001b[0m\u001b[1;33m\u001b[0m\u001b[1;33m\u001b[0m\u001b[0m\n",
      "\u001b[1;31mNameError\u001b[0m: name 'plt' is not defined"
     ]
    }
   ],
   "source": [
    "#graph timeseries vs prcp\n",
    "plt.scatter(dataUnique['DATE'], dataUnique['PRCP'], s=10)\n",
    "plt.title('Daily precipitation totals 2010-2021')\n",
    "plt.ylabel('Precipitation (in)')\n",
    "plt.show()\n",
    "\n",
    "plt.plot(np.arange(1, 13), dataUnique.groupby(['MONTH']).mean()['PRCP'])\n",
    "plt.title('Monthly precipitation averages 2010-2021')\n",
    "plt.xlabel('Month')\n",
    "plt.ylabel('Average daily precipitation (in)')\n",
    "plt.xticks(np.arange(1, 13, step=1))\n",
    "plt.yticks(np.arange(0, 0.55, step=0.05))\n",
    "plt.show()\n",
    "\n",
    "dataUnique.describe()"
   ]
  },
  {
   "cell_type": "code",
   "execution_count": null,
   "metadata": {},
   "outputs": [],
   "source": []
  }
 ],
 "metadata": {
  "kernelspec": {
   "display_name": "Python 3",
   "language": "python",
   "name": "python3"
  },
  "language_info": {
   "codemirror_mode": {
    "name": "ipython",
    "version": 3
   },
   "file_extension": ".py",
   "mimetype": "text/x-python",
   "name": "python",
   "nbconvert_exporter": "python",
   "pygments_lexer": "ipython3",
   "version": "3.8.5"
  }
 },
 "nbformat": 4,
 "nbformat_minor": 4
}
